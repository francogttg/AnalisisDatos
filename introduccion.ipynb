{
 "cells": [
  {
   "cell_type": "code",
   "execution_count": 2,
   "id": "66184e7c",
   "metadata": {},
   "outputs": [
    {
     "name": "stdout",
     "output_type": "stream",
     "text": [
      "Hola\n"
     ]
    }
   ],
   "source": [
    "print('Hola')"
   ]
  },
  {
   "cell_type": "code",
   "execution_count": 3,
   "id": "4a9f9f6e",
   "metadata": {},
   "outputs": [
    {
     "name": "stdout",
     "output_type": "stream",
     "text": [
      "El elemento 'cereza' se encontró en el índice 2.\n"
     ]
    }
   ],
   "source": [
    "def buscar_elemento_con_for(lista, elemento_a_buscar):\n",
    " \n",
    "  for indice, elemento in enumerate(lista):\n",
    "    if elemento == elemento_a_buscar:\n",
    "      return indice \n",
    "  return -1 \n",
    "\n",
    "\n",
    "mi_lista = [\"manzana\", \"banana\", \"cereza\", \"dátil\"]\n",
    "elemento = \"cereza\"\n",
    "indice = buscar_elemento_con_for(mi_lista, elemento)\n",
    "\n",
    "if indice != -1:\n",
    "  print(f\"El elemento '{elemento}' se encontró en el índice {indice}.\")\n",
    "else:\n",
    "  print(f\"El elemento '{elemento}' no se encontró en la lista.\")\n",
    "\n"
   ]
  },
  {
   "cell_type": "code",
   "execution_count": 9,
   "id": "cf4bd869",
   "metadata": {},
   "outputs": [
    {
     "name": "stdout",
     "output_type": "stream",
     "text": [
      "Producto : Laptop\n",
      "Producto : Mouse\n",
      "Producto : Teclado\n"
     ]
    }
   ],
   "source": [
    "productos = [\"Laptop\", \"Mouse\", \"Teclado\"]\n",
    "for producto in productos:\n",
    "    print(f\"Producto : {producto}\")"
   ]
  }
 ],
 "metadata": {
  "kernelspec": {
   "display_name": "Python 3",
   "language": "python",
   "name": "python3"
  },
  "language_info": {
   "codemirror_mode": {
    "name": "ipython",
    "version": 3
   },
   "file_extension": ".py",
   "mimetype": "text/x-python",
   "name": "python",
   "nbconvert_exporter": "python",
   "pygments_lexer": "ipython3",
   "version": "3.12.1"
  }
 },
 "nbformat": 4,
 "nbformat_minor": 5
}
